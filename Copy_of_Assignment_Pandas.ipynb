{
  "cells": [
    {
      "cell_type": "markdown",
      "metadata": {
        "id": "view-in-github",
        "colab_type": "text"
      },
      "source": [
        "<a href=\"https://colab.research.google.com/github/Deelia99/dataset/blob/main/Copy_of_Assignment_Pandas.ipynb\" target=\"_parent\"><img src=\"https://colab.research.google.com/assets/colab-badge.svg\" alt=\"Open In Colab\"/></a>"
      ]
    },
    {
      "cell_type": "markdown",
      "metadata": {
        "id": "XBtcnU6iVJJx"
      },
      "source": [
        "## Assignment: Exploratory Data Analysis using Python\n",
        "\n",
        "This is the starter notebook for the case study project. You will pick a real-world dataset of your choice and apply the concepts learned in this course to perform exploratory data analysis. Use this starter notebook as an outline for your project . Focus on documentation and presentation - this Jupyter notebook will also serve as a project report, so make sure to include detailed explanations wherever possible using Markdown cells.\n",
        "\n",
        "## Exploratory Data Analysis\n",
        "According to Wikipedia, EDA “is an approach to analyzing datasets to summarize their main characteristics, often with visual methods”. In my own words, it is about knowing your data, gaining a certain amount of familiarity with the data, before one starts to extract insights from it.\n",
        "\n",
        "Since EDA is such a crucial initial step for all data science projects, the lazy me decided to write a code template for performing EDA on structured datasets. The idea is to spend less time coding and focus more on the analysis of data itself. Scroll down to the bottom for the link to the code, but do read on to find out more about EDA and understand what the code does. More information related to EDA --> [Exploratory Data Analysis: A Practical Guide and Template for Structured Data](https://towardsdatascience.com/exploratory-data-analysis-eda-a-practical-guide-and-template-for-structured-data-abfbf3ee3bd9)\n",
        "\n",
        "\n",
        "![EDA](https://drive.google.com/uc?export=view&id=1GUl7SVxNv_KUIUrDVa048SyqPUbn9w5M)\n",
        "\n",
        "\n",
        "### Submission\n",
        "1.   This exercise must be completed in pairs (2 students in a group).\n",
        "2.   You need to send the *.pynb file. Make sure you have linked Google Colab with your dataset (Github). \n",
        "3.   Please link to your Google Colab file.<a href=\"https://www.utm.my\" target=\"_parent\"><img src=\"https://colab.research.google.com/assets/colab-badge.svg\" alt=\"Open In Colab\"/></a>\n",
        "4.   Please submit it via e-learning.\n",
        "\n",
        "### Evaluation Criteria\n",
        "\n",
        "Your submission will be evaluated using the following criteria:\n",
        "\n",
        "* Dataset must contain at least 5 columns and 1500 rows of data\n",
        "* You must ask and answer at least 5 questions about the dataset\n",
        "* Your submission must include at least 5 visualizations (graphs)\n",
        "* Your submission must include explanations using markdown cells, apart from the code.\n",
        "* Your work must not be plagiarized i.e. copy-pasted from somewhere else.\n",
        "\n",
        "\n",
        "Follow this step-by-step guide to work on your project.\n",
        "\n",
        "### Step 1: Select a real-world dataset \n",
        "\n",
        "- The Malaysian dataset must be used for your case study.\n",
        "- The dataset is available at:\n",
        "  * [Portal Data Terbuka Malaysia](https://www.data.gov.my/data/ms_MY/dataset)\n",
        "  * [Department of Statistics Malaysia](https://www.dosm.gov.my/v1/index.php?r=column3/accordion&menu_id=amZNeW9vTXRydTFwTXAxSmdDL1J4dz09)\n",
        "  * [data.world](https://data.world/datasets/malaysia)\n",
        "  * [Dataportal.asia](https://dataportal.asia/dataset?vocab_economy_names=Malaysia)\n",
        "  *[knoema](https://knoema.com/atlas/Malaysia/datasets)\n",
        "  *[The World Bank](https://data.worldbank.org/country/MY)\n",
        "  * [Dataset Search - Google](https://datasetsearch.research.google.com/)\n",
        "  * [UCI Machine Learning Repository](https://archive.ics.uci.edu/ml/datasets.php)\n",
        "  * [Kaggle datasets](https://www.kaggle.com/datasets)\n",
        "  * [Awesome-public-datasets](https://github.com/awesomedata/awesome-public-datasets)\n",
        "  * [Datahub.io](https://datahub.io/collections)\n",
        "  * [Earthdata](https://www.earthdata.nasa.gov/)\n",
        "  * [CERN Open Data Portal](http://opendata.cern.ch/)\n",
        "\n",
        "### Step 2: Perform data preparation & cleaning\n",
        "\n",
        "- Load the dataset into a data frame using Pandas\n",
        "- Explore the number of rows & columns, ranges of values etc.\n",
        "- Handle missing, incorrect and invalid data\n",
        "- Perform any additional steps (parsing dates, creating additional columns, merging multiple dataset etc.)\n",
        "\n",
        "\n",
        "### Step 3: Perform exploratory analysis & visualization\n",
        "\n",
        "- Compute the mean, sum, range and other interesting statistics for numeric columns\n",
        "- Explore distributions of numeric columns using histograms etc.\n",
        "- Explore relationship between columns using scatter plots, bar charts etc.\n",
        "- Make a note of interesting insights from the exploratory analysis\n",
        "\n",
        "### Step 4: Ask & answer questions about the data\n",
        "\n",
        "- Ask at least 4 interesting questions about your dataset\n",
        "- Answer the questions either by computing the results using Numpy/Pandas or by plotting graphs using Matplotlib/Seaborn\n",
        "- Create new columns, merge multiple dataset and perform grouping/aggregation wherever necessary\n",
        "- Wherever you're using a library function from Pandas/Numpy/Matplotlib etc. explain briefly what it does\n",
        "\n",
        "\n",
        "### Step 5: Summarize your inferences & write a conclusion\n",
        "\n",
        "- Write a summary of what you've learned from the analysis\n",
        "- Include interesting insights and graphs from previous sections\n",
        "- Share ideas for future work on the same topic using other relevant datasets\n",
        "- Share links to resources you found useful during your analysis\n",
        "\n",
        "### Step 6: Make a submission\n",
        "\n",
        "- Upload your notebook to e-learning.\n",
        "\n",
        "\n",
        "### Example Projects\n",
        "\n",
        "Refer to these projects for inspiration:\n",
        "\n",
        "* [Malaysia Immunisation Progress](https://www.kaggle.com/code/koayhongvin/malaysia-immunisation-progress)\n",
        "\n",
        "* [Malaysia Crop EDA](https://www.kaggle.com/code/nazihahnajla/malaysia-crop-eda)\n",
        "\n",
        "* [ASEAN Democracy Index EDA](https://www.kaggle.com/code/aradinka/asean-democracy-index-eda)\n",
        "\n",
        "* [Men's International Football Analysis](https://www.kaggle.com/code/rittickchakraborty/men-s-international-football-analysis) \n",
        "\n",
        "* [Data Science Job Salaries Analysis with Python](https://www.kaggle.com/code/muliasujiastuti/data-science-job-salaries-analysis-with-python)\n",
        "\n",
        "* [Alteration in Technology and Job Role in 2022\n",
        "](https://www.kaggle.com/code/summerakousar/alteration-in-technology-and-job-role-in-2022)\n",
        "\n",
        "* [Data Cleaning Challenge: Inconsistent Data Entry](https://www.kaggle.com/code/melanieng/data-cleaning-challenge-inconsistent-data-entry#Get-our-environment-set-up)\n",
        "\n",
        "**NOTE**: Remove this cell containing the instructions before making your submission. You can do using the \"Edit > Delete Cells\" menu option."
      ]
    },
    {
      "cell_type": "markdown",
      "metadata": {
        "id": "7F8DQl5dVJJ0"
      },
      "source": [
        "# Project Title - change this <a href=\"https://www.utm.my\" target=\"_parent\"><img src=\"https://colab.research.google.com/assets/colab-badge.svg\" alt=\"Open In Colab\"/></a>\n",
        "\n",
        "TODO - Write some introduction about your project here: describe the dataset, where you got it from, what you're trying to do with it, and which tools & techniques you're using. Please provide your group member name and their matrix number."
      ]
    },
    {
      "cell_type": "markdown",
      "metadata": {
        "id": "LxWzVndBVJJ1"
      },
      "source": [
        "## Downloading the Dataset\n",
        "\n",
        "**TODO** - add some explanation here"
      ]
    },
    {
      "cell_type": "markdown",
      "metadata": {
        "id": "oHRcyidmVJJ1"
      },
      "source": [
        "\n",
        "> Instructions for downloading the dataset (delete this cell) - Dataset in Gi\n"
      ]
    },
    {
      "cell_type": "code",
      "execution_count": null,
      "metadata": {
        "id": "_s6ZSPWYVJJ2"
      },
      "outputs": [],
      "source": []
    },
    {
      "cell_type": "markdown",
      "metadata": {
        "id": "GhhO14GEVJJ2"
      },
      "source": [
        "Let's begin by downloading the data, and listing the files within the dataset."
      ]
    },
    {
      "cell_type": "code",
      "execution_count": null,
      "metadata": {
        "id": "90nIoWQtVJJ3"
      },
      "outputs": [],
      "source": []
    },
    {
      "cell_type": "code",
      "execution_count": null,
      "metadata": {
        "id": "oAVmLuq2VJJ3"
      },
      "outputs": [],
      "source": [
        "import pandas as pd\n",
        "import numpy as np"
      ]
    },
    {
      "cell_type": "code",
      "source": [
        "data = pd.read_csv('https://raw.githubusercontent.com/Deelia99/dataset/main/m-20221201054019_202212010540360_2021-gunatanah_tampin.csv')\n",
        "\n",
        "data.tail(10)"
      ],
      "metadata": {
        "id": "AxF6FReMNLAi",
        "colab": {
          "base_uri": "https://localhost:8080/",
          "height": 407
        },
        "outputId": "0a7486ab-b106-4672-8dfb-07a02cd0aa2f"
      },
      "execution_count": null,
      "outputs": [
        {
          "output_type": "execute_result",
          "data": {
            "text/plain": [
              "       DAERAH PIHAK BERKUASA TEMPATAN  ID MUKIM               GUNA TANAH 1  \\\n",
              "54262  TAMPIN    MAJLIS DAERAH TAMPIN     50604                  Pertanian   \n",
              "54263  TAMPIN    MAJLIS DAERAH TAMPIN     50674               Pengangkutan   \n",
              "54264  TAMPIN    MAJLIS DAERAH TAMPIN     50674                  Komersial   \n",
              "54265  TAMPIN    MAJLIS DAERAH TAMPIN     50674               Pengangkutan   \n",
              "54266  TAMPIN    MAJLIS DAERAH TAMPIN     50674  Infrastruktur dan Utiliti   \n",
              "54267  TAMPIN    MAJLIS DAERAH TAMPIN     50674               Pengangkutan   \n",
              "54268  TAMPIN    MAJLIS DAERAH TAMPIN     50674                  Komersial   \n",
              "54269  TAMPIN    MAJLIS DAERAH TAMPIN     50674                  Komersial   \n",
              "54270  TAMPIN    MAJLIS DAERAH TAMPIN     50674                  Komersial   \n",
              "54271  TAMPIN    MAJLIS DAERAH TAMPIN     50674                  Komersial   \n",
              "\n",
              "           GUNA TANAH 2             GUNA TANAH 3           NAMA  \\\n",
              "54262           Tanaman   Tanah tidak diusahakan         <Null>   \n",
              "54263             Jalan               Jalan Lain  CHONG CHE KIN   \n",
              "54264             Teres                    Kedai  CHONG CHE KIN   \n",
              "54265             Jalan               Jalan Lain  CHONG CHE KIN   \n",
              "54266  Bekalan Elektrik  Pencawang Elektrik (PE)  CHONG CHE KIN   \n",
              "54267             Jalan               Jalan Lain  CHONG CHE KIN   \n",
              "54268             Teres                    Kedai  CHONG CHE KIN   \n",
              "54269             Teres                    Kedai  CHONG CHE KIN   \n",
              "54270             Teres                    Kedai  CHONG CHE KIN   \n",
              "54271             Teres                    Kedai  CHONG CHE KIN   \n",
              "\n",
              "       LUAS (HEKTAR) KOD GTN  LOT TANAH  \n",
              "54262       0.004755   PT126     <Null>  \n",
              "54263       0.153648  IPG405  9048&9049  \n",
              "54264       0.016234  TPK101  9048&9049  \n",
              "54265       0.012097  IPG405  9048&9049  \n",
              "54266       0.004005  IFU110  9048&9049  \n",
              "54267       0.001418  IPG405  9048&9049  \n",
              "54268       0.012281  TPK101  9048&9049  \n",
              "54269       0.013667  TPK101  9048&9049  \n",
              "54270       0.013750  TPK101  9048&9049  \n",
              "54271       0.014475  TPK101  9048&9049  "
            ],
            "text/html": [
              "\n",
              "  <div id=\"df-3a2ac411-081c-4d6b-9539-9aa5dbedfd8c\">\n",
              "    <div class=\"colab-df-container\">\n",
              "      <div>\n",
              "<style scoped>\n",
              "    .dataframe tbody tr th:only-of-type {\n",
              "        vertical-align: middle;\n",
              "    }\n",
              "\n",
              "    .dataframe tbody tr th {\n",
              "        vertical-align: top;\n",
              "    }\n",
              "\n",
              "    .dataframe thead th {\n",
              "        text-align: right;\n",
              "    }\n",
              "</style>\n",
              "<table border=\"1\" class=\"dataframe\">\n",
              "  <thead>\n",
              "    <tr style=\"text-align: right;\">\n",
              "      <th></th>\n",
              "      <th>DAERAH</th>\n",
              "      <th>PIHAK BERKUASA TEMPATAN</th>\n",
              "      <th>ID MUKIM</th>\n",
              "      <th>GUNA TANAH 1</th>\n",
              "      <th>GUNA TANAH 2</th>\n",
              "      <th>GUNA TANAH 3</th>\n",
              "      <th>NAMA</th>\n",
              "      <th>LUAS (HEKTAR)</th>\n",
              "      <th>KOD GTN</th>\n",
              "      <th>LOT TANAH</th>\n",
              "    </tr>\n",
              "  </thead>\n",
              "  <tbody>\n",
              "    <tr>\n",
              "      <th>54262</th>\n",
              "      <td>TAMPIN</td>\n",
              "      <td>MAJLIS DAERAH TAMPIN</td>\n",
              "      <td>50604</td>\n",
              "      <td>Pertanian</td>\n",
              "      <td>Tanaman</td>\n",
              "      <td>Tanah tidak diusahakan</td>\n",
              "      <td>&lt;Null&gt;</td>\n",
              "      <td>0.004755</td>\n",
              "      <td>PT126</td>\n",
              "      <td>&lt;Null&gt;</td>\n",
              "    </tr>\n",
              "    <tr>\n",
              "      <th>54263</th>\n",
              "      <td>TAMPIN</td>\n",
              "      <td>MAJLIS DAERAH TAMPIN</td>\n",
              "      <td>50674</td>\n",
              "      <td>Pengangkutan</td>\n",
              "      <td>Jalan</td>\n",
              "      <td>Jalan Lain</td>\n",
              "      <td>CHONG CHE KIN</td>\n",
              "      <td>0.153648</td>\n",
              "      <td>IPG405</td>\n",
              "      <td>9048&amp;9049</td>\n",
              "    </tr>\n",
              "    <tr>\n",
              "      <th>54264</th>\n",
              "      <td>TAMPIN</td>\n",
              "      <td>MAJLIS DAERAH TAMPIN</td>\n",
              "      <td>50674</td>\n",
              "      <td>Komersial</td>\n",
              "      <td>Teres</td>\n",
              "      <td>Kedai</td>\n",
              "      <td>CHONG CHE KIN</td>\n",
              "      <td>0.016234</td>\n",
              "      <td>TPK101</td>\n",
              "      <td>9048&amp;9049</td>\n",
              "    </tr>\n",
              "    <tr>\n",
              "      <th>54265</th>\n",
              "      <td>TAMPIN</td>\n",
              "      <td>MAJLIS DAERAH TAMPIN</td>\n",
              "      <td>50674</td>\n",
              "      <td>Pengangkutan</td>\n",
              "      <td>Jalan</td>\n",
              "      <td>Jalan Lain</td>\n",
              "      <td>CHONG CHE KIN</td>\n",
              "      <td>0.012097</td>\n",
              "      <td>IPG405</td>\n",
              "      <td>9048&amp;9049</td>\n",
              "    </tr>\n",
              "    <tr>\n",
              "      <th>54266</th>\n",
              "      <td>TAMPIN</td>\n",
              "      <td>MAJLIS DAERAH TAMPIN</td>\n",
              "      <td>50674</td>\n",
              "      <td>Infrastruktur dan Utiliti</td>\n",
              "      <td>Bekalan Elektrik</td>\n",
              "      <td>Pencawang Elektrik (PE)</td>\n",
              "      <td>CHONG CHE KIN</td>\n",
              "      <td>0.004005</td>\n",
              "      <td>IFU110</td>\n",
              "      <td>9048&amp;9049</td>\n",
              "    </tr>\n",
              "    <tr>\n",
              "      <th>54267</th>\n",
              "      <td>TAMPIN</td>\n",
              "      <td>MAJLIS DAERAH TAMPIN</td>\n",
              "      <td>50674</td>\n",
              "      <td>Pengangkutan</td>\n",
              "      <td>Jalan</td>\n",
              "      <td>Jalan Lain</td>\n",
              "      <td>CHONG CHE KIN</td>\n",
              "      <td>0.001418</td>\n",
              "      <td>IPG405</td>\n",
              "      <td>9048&amp;9049</td>\n",
              "    </tr>\n",
              "    <tr>\n",
              "      <th>54268</th>\n",
              "      <td>TAMPIN</td>\n",
              "      <td>MAJLIS DAERAH TAMPIN</td>\n",
              "      <td>50674</td>\n",
              "      <td>Komersial</td>\n",
              "      <td>Teres</td>\n",
              "      <td>Kedai</td>\n",
              "      <td>CHONG CHE KIN</td>\n",
              "      <td>0.012281</td>\n",
              "      <td>TPK101</td>\n",
              "      <td>9048&amp;9049</td>\n",
              "    </tr>\n",
              "    <tr>\n",
              "      <th>54269</th>\n",
              "      <td>TAMPIN</td>\n",
              "      <td>MAJLIS DAERAH TAMPIN</td>\n",
              "      <td>50674</td>\n",
              "      <td>Komersial</td>\n",
              "      <td>Teres</td>\n",
              "      <td>Kedai</td>\n",
              "      <td>CHONG CHE KIN</td>\n",
              "      <td>0.013667</td>\n",
              "      <td>TPK101</td>\n",
              "      <td>9048&amp;9049</td>\n",
              "    </tr>\n",
              "    <tr>\n",
              "      <th>54270</th>\n",
              "      <td>TAMPIN</td>\n",
              "      <td>MAJLIS DAERAH TAMPIN</td>\n",
              "      <td>50674</td>\n",
              "      <td>Komersial</td>\n",
              "      <td>Teres</td>\n",
              "      <td>Kedai</td>\n",
              "      <td>CHONG CHE KIN</td>\n",
              "      <td>0.013750</td>\n",
              "      <td>TPK101</td>\n",
              "      <td>9048&amp;9049</td>\n",
              "    </tr>\n",
              "    <tr>\n",
              "      <th>54271</th>\n",
              "      <td>TAMPIN</td>\n",
              "      <td>MAJLIS DAERAH TAMPIN</td>\n",
              "      <td>50674</td>\n",
              "      <td>Komersial</td>\n",
              "      <td>Teres</td>\n",
              "      <td>Kedai</td>\n",
              "      <td>CHONG CHE KIN</td>\n",
              "      <td>0.014475</td>\n",
              "      <td>TPK101</td>\n",
              "      <td>9048&amp;9049</td>\n",
              "    </tr>\n",
              "  </tbody>\n",
              "</table>\n",
              "</div>\n",
              "      <button class=\"colab-df-convert\" onclick=\"convertToInteractive('df-3a2ac411-081c-4d6b-9539-9aa5dbedfd8c')\"\n",
              "              title=\"Convert this dataframe to an interactive table.\"\n",
              "              style=\"display:none;\">\n",
              "        \n",
              "  <svg xmlns=\"http://www.w3.org/2000/svg\" height=\"24px\"viewBox=\"0 0 24 24\"\n",
              "       width=\"24px\">\n",
              "    <path d=\"M0 0h24v24H0V0z\" fill=\"none\"/>\n",
              "    <path d=\"M18.56 5.44l.94 2.06.94-2.06 2.06-.94-2.06-.94-.94-2.06-.94 2.06-2.06.94zm-11 1L8.5 8.5l.94-2.06 2.06-.94-2.06-.94L8.5 2.5l-.94 2.06-2.06.94zm10 10l.94 2.06.94-2.06 2.06-.94-2.06-.94-.94-2.06-.94 2.06-2.06.94z\"/><path d=\"M17.41 7.96l-1.37-1.37c-.4-.4-.92-.59-1.43-.59-.52 0-1.04.2-1.43.59L10.3 9.45l-7.72 7.72c-.78.78-.78 2.05 0 2.83L4 21.41c.39.39.9.59 1.41.59.51 0 1.02-.2 1.41-.59l7.78-7.78 2.81-2.81c.8-.78.8-2.07 0-2.86zM5.41 20L4 18.59l7.72-7.72 1.47 1.35L5.41 20z\"/>\n",
              "  </svg>\n",
              "      </button>\n",
              "      \n",
              "  <style>\n",
              "    .colab-df-container {\n",
              "      display:flex;\n",
              "      flex-wrap:wrap;\n",
              "      gap: 12px;\n",
              "    }\n",
              "\n",
              "    .colab-df-convert {\n",
              "      background-color: #E8F0FE;\n",
              "      border: none;\n",
              "      border-radius: 50%;\n",
              "      cursor: pointer;\n",
              "      display: none;\n",
              "      fill: #1967D2;\n",
              "      height: 32px;\n",
              "      padding: 0 0 0 0;\n",
              "      width: 32px;\n",
              "    }\n",
              "\n",
              "    .colab-df-convert:hover {\n",
              "      background-color: #E2EBFA;\n",
              "      box-shadow: 0px 1px 2px rgba(60, 64, 67, 0.3), 0px 1px 3px 1px rgba(60, 64, 67, 0.15);\n",
              "      fill: #174EA6;\n",
              "    }\n",
              "\n",
              "    [theme=dark] .colab-df-convert {\n",
              "      background-color: #3B4455;\n",
              "      fill: #D2E3FC;\n",
              "    }\n",
              "\n",
              "    [theme=dark] .colab-df-convert:hover {\n",
              "      background-color: #434B5C;\n",
              "      box-shadow: 0px 1px 3px 1px rgba(0, 0, 0, 0.15);\n",
              "      filter: drop-shadow(0px 1px 2px rgba(0, 0, 0, 0.3));\n",
              "      fill: #FFFFFF;\n",
              "    }\n",
              "  </style>\n",
              "\n",
              "      <script>\n",
              "        const buttonEl =\n",
              "          document.querySelector('#df-3a2ac411-081c-4d6b-9539-9aa5dbedfd8c button.colab-df-convert');\n",
              "        buttonEl.style.display =\n",
              "          google.colab.kernel.accessAllowed ? 'block' : 'none';\n",
              "\n",
              "        async function convertToInteractive(key) {\n",
              "          const element = document.querySelector('#df-3a2ac411-081c-4d6b-9539-9aa5dbedfd8c');\n",
              "          const dataTable =\n",
              "            await google.colab.kernel.invokeFunction('convertToInteractive',\n",
              "                                                     [key], {});\n",
              "          if (!dataTable) return;\n",
              "\n",
              "          const docLinkHtml = 'Like what you see? Visit the ' +\n",
              "            '<a target=\"_blank\" href=https://colab.research.google.com/notebooks/data_table.ipynb>data table notebook</a>'\n",
              "            + ' to learn more about interactive tables.';\n",
              "          element.innerHTML = '';\n",
              "          dataTable['output_type'] = 'display_data';\n",
              "          await google.colab.output.renderOutput(dataTable, element);\n",
              "          const docLink = document.createElement('div');\n",
              "          docLink.innerHTML = docLinkHtml;\n",
              "          element.appendChild(docLink);\n",
              "        }\n",
              "      </script>\n",
              "    </div>\n",
              "  </div>\n",
              "  "
            ]
          },
          "metadata": {},
          "execution_count": 2
        }
      ]
    },
    {
      "cell_type": "markdown",
      "metadata": {
        "id": "XXnPmr-JVJJ3"
      },
      "source": [
        "The dataset has been downloaded and extracted."
      ]
    },
    {
      "cell_type": "code",
      "execution_count": null,
      "metadata": {
        "id": "uowAPeffVJJ4"
      },
      "outputs": [],
      "source": [
        "df=data\n",
        "df=df.replace({'<Null>':np.NaN})\n",
        "\n",
        "df.tail(20)"
      ]
    },
    {
      "cell_type": "code",
      "execution_count": null,
      "metadata": {
        "id": "BEVbTciwVJJ4",
        "colab": {
          "base_uri": "https://localhost:8080/"
        },
        "outputId": "a2c2f93c-ca6d-4de0-c1ec-37d83bfa4425"
      },
      "outputs": [
        {
          "output_type": "stream",
          "name": "stdout",
          "text": [
            "1.5679\n"
          ]
        }
      ],
      "source": [
        "#\"College\"].fillna(\"No College\", inplace = True)\n",
        "a=df['LUAS (HEKTAR)'].mean()\n",
        "print(\"%.4f\" % a)\n",
        "df[\"LUAS (HEKTAR)\"].fillna(1.5679, inplace = True)\n"
      ]
    },
    {
      "cell_type": "markdown",
      "metadata": {
        "id": "Jnx4zelxVJJ4"
      },
      "source": [
        "Next step"
      ]
    },
    {
      "cell_type": "code",
      "execution_count": null,
      "metadata": {
        "id": "nqciugWLVJJ4",
        "colab": {
          "base_uri": "https://localhost:8080/"
        },
        "outputId": "77c8a5c9-6791-4b0b-ff05-de63fea56948"
      },
      "outputs": [
        {
          "output_type": "stream",
          "name": "stdout",
          "text": [
            "0\n"
          ]
        }
      ],
      "source": [
        "#df['LUAS (HEKTAR)'].isna().sum()\n",
        "print(df['GUNA TANAH 1'].isna().sum())\n",
        "#df.info(54272)\n",
        "\n"
      ]
    },
    {
      "cell_type": "code",
      "execution_count": null,
      "metadata": {
        "id": "Rsgjn7WZVJJ4",
        "colab": {
          "base_uri": "https://localhost:8080/"
        },
        "outputId": "80a9aae6-9aff-4459-b048-12d286b7b82e"
      },
      "outputs": [
        {
          "output_type": "stream",
          "name": "stdout",
          "text": [
            "0        False\n",
            "1        False\n",
            "2        False\n",
            "3        False\n",
            "4        False\n",
            "         ...  \n",
            "54267    False\n",
            "54268    False\n",
            "54269    False\n",
            "54270    False\n",
            "54271    False\n",
            "Length: 54272, dtype: bool\n",
            "243\n"
          ]
        }
      ],
      "source": [
        "print(df.duplicated(subset='LUAS (HEKTAR)'))\n",
        "print(df.duplicated().sum())\n",
        "\n"
      ]
    },
    {
      "cell_type": "code",
      "execution_count": null,
      "metadata": {
        "id": "8BlXZJt_VJJ5",
        "colab": {
          "base_uri": "https://localhost:8080/",
          "height": 206
        },
        "outputId": "830b74fc-8a46-4aa6-b593-3e7846685c65"
      },
      "outputs": [
        {
          "output_type": "execute_result",
          "data": {
            "text/plain": [
              "   DAERAH PIHAK BERKUASA TEMPATAN  ID MUKIM GUNA TANAH 1  \\\n",
              "0  TAMPIN    MAJLIS DAERAH TAMPIN     50602    Badan Air   \n",
              "1  TAMPIN    MAJLIS DAERAH TAMPIN     50672    Perumahan   \n",
              "2  TAMPIN    MAJLIS DAERAH TAMPIN     50672    Perumahan   \n",
              "3  TAMPIN    MAJLIS DAERAH TAMPIN     50672    Perumahan   \n",
              "4  TAMPIN    MAJLIS DAERAH TAMPIN     50672    Perumahan   \n",
              "\n",
              "             GUNA TANAH 2 GUNA TANAH 3             NAMA  LUAS (HEKTAR)  \\\n",
              "0             Semula Jadi       Sungai  Tidak Diketahui       1.267502   \n",
              "1  Perumahan Bukan Strata        Teres  Tidak Diketahui       0.021251   \n",
              "2  Perumahan Bukan Strata        Teres  Tidak Diketahui       0.021251   \n",
              "3  Perumahan Bukan Strata        Teres  Tidak Diketahui       0.011148   \n",
              "4  Perumahan Bukan Strata        Teres  Tidak Diketahui       0.011150   \n",
              "\n",
              "  KOD GTN LOT TANAH  \n",
              "0   BA101       654  \n",
              "1  TRM203     13667  \n",
              "2  TRM203     13668  \n",
              "3  TRM203     13669  \n",
              "4  TRM203     13670  "
            ],
            "text/html": [
              "\n",
              "  <div id=\"df-848de03f-0b65-42af-a80e-84b5f0b252ec\">\n",
              "    <div class=\"colab-df-container\">\n",
              "      <div>\n",
              "<style scoped>\n",
              "    .dataframe tbody tr th:only-of-type {\n",
              "        vertical-align: middle;\n",
              "    }\n",
              "\n",
              "    .dataframe tbody tr th {\n",
              "        vertical-align: top;\n",
              "    }\n",
              "\n",
              "    .dataframe thead th {\n",
              "        text-align: right;\n",
              "    }\n",
              "</style>\n",
              "<table border=\"1\" class=\"dataframe\">\n",
              "  <thead>\n",
              "    <tr style=\"text-align: right;\">\n",
              "      <th></th>\n",
              "      <th>DAERAH</th>\n",
              "      <th>PIHAK BERKUASA TEMPATAN</th>\n",
              "      <th>ID MUKIM</th>\n",
              "      <th>GUNA TANAH 1</th>\n",
              "      <th>GUNA TANAH 2</th>\n",
              "      <th>GUNA TANAH 3</th>\n",
              "      <th>NAMA</th>\n",
              "      <th>LUAS (HEKTAR)</th>\n",
              "      <th>KOD GTN</th>\n",
              "      <th>LOT TANAH</th>\n",
              "    </tr>\n",
              "  </thead>\n",
              "  <tbody>\n",
              "    <tr>\n",
              "      <th>0</th>\n",
              "      <td>TAMPIN</td>\n",
              "      <td>MAJLIS DAERAH TAMPIN</td>\n",
              "      <td>50602</td>\n",
              "      <td>Badan Air</td>\n",
              "      <td>Semula Jadi</td>\n",
              "      <td>Sungai</td>\n",
              "      <td>Tidak Diketahui</td>\n",
              "      <td>1.267502</td>\n",
              "      <td>BA101</td>\n",
              "      <td>654</td>\n",
              "    </tr>\n",
              "    <tr>\n",
              "      <th>1</th>\n",
              "      <td>TAMPIN</td>\n",
              "      <td>MAJLIS DAERAH TAMPIN</td>\n",
              "      <td>50672</td>\n",
              "      <td>Perumahan</td>\n",
              "      <td>Perumahan Bukan Strata</td>\n",
              "      <td>Teres</td>\n",
              "      <td>Tidak Diketahui</td>\n",
              "      <td>0.021251</td>\n",
              "      <td>TRM203</td>\n",
              "      <td>13667</td>\n",
              "    </tr>\n",
              "    <tr>\n",
              "      <th>2</th>\n",
              "      <td>TAMPIN</td>\n",
              "      <td>MAJLIS DAERAH TAMPIN</td>\n",
              "      <td>50672</td>\n",
              "      <td>Perumahan</td>\n",
              "      <td>Perumahan Bukan Strata</td>\n",
              "      <td>Teres</td>\n",
              "      <td>Tidak Diketahui</td>\n",
              "      <td>0.021251</td>\n",
              "      <td>TRM203</td>\n",
              "      <td>13668</td>\n",
              "    </tr>\n",
              "    <tr>\n",
              "      <th>3</th>\n",
              "      <td>TAMPIN</td>\n",
              "      <td>MAJLIS DAERAH TAMPIN</td>\n",
              "      <td>50672</td>\n",
              "      <td>Perumahan</td>\n",
              "      <td>Perumahan Bukan Strata</td>\n",
              "      <td>Teres</td>\n",
              "      <td>Tidak Diketahui</td>\n",
              "      <td>0.011148</td>\n",
              "      <td>TRM203</td>\n",
              "      <td>13669</td>\n",
              "    </tr>\n",
              "    <tr>\n",
              "      <th>4</th>\n",
              "      <td>TAMPIN</td>\n",
              "      <td>MAJLIS DAERAH TAMPIN</td>\n",
              "      <td>50672</td>\n",
              "      <td>Perumahan</td>\n",
              "      <td>Perumahan Bukan Strata</td>\n",
              "      <td>Teres</td>\n",
              "      <td>Tidak Diketahui</td>\n",
              "      <td>0.011150</td>\n",
              "      <td>TRM203</td>\n",
              "      <td>13670</td>\n",
              "    </tr>\n",
              "  </tbody>\n",
              "</table>\n",
              "</div>\n",
              "      <button class=\"colab-df-convert\" onclick=\"convertToInteractive('df-848de03f-0b65-42af-a80e-84b5f0b252ec')\"\n",
              "              title=\"Convert this dataframe to an interactive table.\"\n",
              "              style=\"display:none;\">\n",
              "        \n",
              "  <svg xmlns=\"http://www.w3.org/2000/svg\" height=\"24px\"viewBox=\"0 0 24 24\"\n",
              "       width=\"24px\">\n",
              "    <path d=\"M0 0h24v24H0V0z\" fill=\"none\"/>\n",
              "    <path d=\"M18.56 5.44l.94 2.06.94-2.06 2.06-.94-2.06-.94-.94-2.06-.94 2.06-2.06.94zm-11 1L8.5 8.5l.94-2.06 2.06-.94-2.06-.94L8.5 2.5l-.94 2.06-2.06.94zm10 10l.94 2.06.94-2.06 2.06-.94-2.06-.94-.94-2.06-.94 2.06-2.06.94z\"/><path d=\"M17.41 7.96l-1.37-1.37c-.4-.4-.92-.59-1.43-.59-.52 0-1.04.2-1.43.59L10.3 9.45l-7.72 7.72c-.78.78-.78 2.05 0 2.83L4 21.41c.39.39.9.59 1.41.59.51 0 1.02-.2 1.41-.59l7.78-7.78 2.81-2.81c.8-.78.8-2.07 0-2.86zM5.41 20L4 18.59l7.72-7.72 1.47 1.35L5.41 20z\"/>\n",
              "  </svg>\n",
              "      </button>\n",
              "      \n",
              "  <style>\n",
              "    .colab-df-container {\n",
              "      display:flex;\n",
              "      flex-wrap:wrap;\n",
              "      gap: 12px;\n",
              "    }\n",
              "\n",
              "    .colab-df-convert {\n",
              "      background-color: #E8F0FE;\n",
              "      border: none;\n",
              "      border-radius: 50%;\n",
              "      cursor: pointer;\n",
              "      display: none;\n",
              "      fill: #1967D2;\n",
              "      height: 32px;\n",
              "      padding: 0 0 0 0;\n",
              "      width: 32px;\n",
              "    }\n",
              "\n",
              "    .colab-df-convert:hover {\n",
              "      background-color: #E2EBFA;\n",
              "      box-shadow: 0px 1px 2px rgba(60, 64, 67, 0.3), 0px 1px 3px 1px rgba(60, 64, 67, 0.15);\n",
              "      fill: #174EA6;\n",
              "    }\n",
              "\n",
              "    [theme=dark] .colab-df-convert {\n",
              "      background-color: #3B4455;\n",
              "      fill: #D2E3FC;\n",
              "    }\n",
              "\n",
              "    [theme=dark] .colab-df-convert:hover {\n",
              "      background-color: #434B5C;\n",
              "      box-shadow: 0px 1px 3px 1px rgba(0, 0, 0, 0.15);\n",
              "      filter: drop-shadow(0px 1px 2px rgba(0, 0, 0, 0.3));\n",
              "      fill: #FFFFFF;\n",
              "    }\n",
              "  </style>\n",
              "\n",
              "      <script>\n",
              "        const buttonEl =\n",
              "          document.querySelector('#df-848de03f-0b65-42af-a80e-84b5f0b252ec button.colab-df-convert');\n",
              "        buttonEl.style.display =\n",
              "          google.colab.kernel.accessAllowed ? 'block' : 'none';\n",
              "\n",
              "        async function convertToInteractive(key) {\n",
              "          const element = document.querySelector('#df-848de03f-0b65-42af-a80e-84b5f0b252ec');\n",
              "          const dataTable =\n",
              "            await google.colab.kernel.invokeFunction('convertToInteractive',\n",
              "                                                     [key], {});\n",
              "          if (!dataTable) return;\n",
              "\n",
              "          const docLinkHtml = 'Like what you see? Visit the ' +\n",
              "            '<a target=\"_blank\" href=https://colab.research.google.com/notebooks/data_table.ipynb>data table notebook</a>'\n",
              "            + ' to learn more about interactive tables.';\n",
              "          element.innerHTML = '';\n",
              "          dataTable['output_type'] = 'display_data';\n",
              "          await google.colab.output.renderOutput(dataTable, element);\n",
              "          const docLink = document.createElement('div');\n",
              "          docLink.innerHTML = docLinkHtml;\n",
              "          element.appendChild(docLink);\n",
              "        }\n",
              "      </script>\n",
              "    </div>\n",
              "  </div>\n",
              "  "
            ]
          },
          "metadata": {},
          "execution_count": 49
        }
      ],
      "source": [
        " df.drop_duplicates( keep='last')\n",
        "df.tail(5)\n",
        "count_nan = len(df) - df.count()\n",
        "count_nan\n",
        "df.head(5)\n",
        "print(df['LOT TANAH']..sum())"
      ]
    },
    {
      "cell_type": "code",
      "execution_count": null,
      "metadata": {
        "id": "fVjJerS1VJJ5",
        "colab": {
          "base_uri": "https://localhost:8080/",
          "height": 424
        },
        "outputId": "bf34527e-9cf4-48d8-962e-a446b8953e21"
      },
      "outputs": [
        {
          "output_type": "execute_result",
          "data": {
            "text/plain": [
              "       DAERAH PIHAK BERKUASA TEMPATAN  ID MUKIM  GUNA TANAH 1  \\\n",
              "0      TAMPIN    MAJLIS DAERAH TAMPIN     50602     Badan Air   \n",
              "1      TAMPIN    MAJLIS DAERAH TAMPIN     50672     Perumahan   \n",
              "2      TAMPIN    MAJLIS DAERAH TAMPIN     50672     Perumahan   \n",
              "3      TAMPIN    MAJLIS DAERAH TAMPIN     50672     Perumahan   \n",
              "4      TAMPIN    MAJLIS DAERAH TAMPIN     50672     Perumahan   \n",
              "...       ...                     ...       ...           ...   \n",
              "54267  TAMPIN    MAJLIS DAERAH TAMPIN     50674  Pengangkutan   \n",
              "54268  TAMPIN    MAJLIS DAERAH TAMPIN     50674     Komersial   \n",
              "54269  TAMPIN    MAJLIS DAERAH TAMPIN     50674     Komersial   \n",
              "54270  TAMPIN    MAJLIS DAERAH TAMPIN     50674     Komersial   \n",
              "54271  TAMPIN    MAJLIS DAERAH TAMPIN     50674     Komersial   \n",
              "\n",
              "                 GUNA TANAH 2 GUNA TANAH 3           NAMA  LUAS (HEKTAR)  \\\n",
              "0                 Semula Jadi       Sungai            NaN       1.267502   \n",
              "1      Perumahan Bukan Strata        Teres            NaN       0.021251   \n",
              "2      Perumahan Bukan Strata        Teres            NaN       0.021251   \n",
              "3      Perumahan Bukan Strata        Teres            NaN       0.011148   \n",
              "4      Perumahan Bukan Strata        Teres            NaN       0.011150   \n",
              "...                       ...          ...            ...            ...   \n",
              "54267                   Jalan   Jalan Lain  CHONG CHE KIN       0.001418   \n",
              "54268                   Teres        Kedai  CHONG CHE KIN       0.012281   \n",
              "54269                   Teres        Kedai  CHONG CHE KIN       0.013667   \n",
              "54270                   Teres        Kedai  CHONG CHE KIN       0.013750   \n",
              "54271                   Teres        Kedai  CHONG CHE KIN       0.014475   \n",
              "\n",
              "      KOD GTN  LOT TANAH  \n",
              "0       BA101        654  \n",
              "1      TRM203      13667  \n",
              "2      TRM203      13668  \n",
              "3      TRM203      13669  \n",
              "4      TRM203      13670  \n",
              "...       ...        ...  \n",
              "54267  IPG405  9048&9049  \n",
              "54268  TPK101  9048&9049  \n",
              "54269  TPK101  9048&9049  \n",
              "54270  TPK101  9048&9049  \n",
              "54271  TPK101  9048&9049  \n",
              "\n",
              "[54272 rows x 10 columns]"
            ],
            "text/html": [
              "\n",
              "  <div id=\"df-85a4597e-1e12-470f-b88b-8cc5832bcb84\">\n",
              "    <div class=\"colab-df-container\">\n",
              "      <div>\n",
              "<style scoped>\n",
              "    .dataframe tbody tr th:only-of-type {\n",
              "        vertical-align: middle;\n",
              "    }\n",
              "\n",
              "    .dataframe tbody tr th {\n",
              "        vertical-align: top;\n",
              "    }\n",
              "\n",
              "    .dataframe thead th {\n",
              "        text-align: right;\n",
              "    }\n",
              "</style>\n",
              "<table border=\"1\" class=\"dataframe\">\n",
              "  <thead>\n",
              "    <tr style=\"text-align: right;\">\n",
              "      <th></th>\n",
              "      <th>DAERAH</th>\n",
              "      <th>PIHAK BERKUASA TEMPATAN</th>\n",
              "      <th>ID MUKIM</th>\n",
              "      <th>GUNA TANAH 1</th>\n",
              "      <th>GUNA TANAH 2</th>\n",
              "      <th>GUNA TANAH 3</th>\n",
              "      <th>NAMA</th>\n",
              "      <th>LUAS (HEKTAR)</th>\n",
              "      <th>KOD GTN</th>\n",
              "      <th>LOT TANAH</th>\n",
              "    </tr>\n",
              "  </thead>\n",
              "  <tbody>\n",
              "    <tr>\n",
              "      <th>0</th>\n",
              "      <td>TAMPIN</td>\n",
              "      <td>MAJLIS DAERAH TAMPIN</td>\n",
              "      <td>50602</td>\n",
              "      <td>Badan Air</td>\n",
              "      <td>Semula Jadi</td>\n",
              "      <td>Sungai</td>\n",
              "      <td>NaN</td>\n",
              "      <td>1.267502</td>\n",
              "      <td>BA101</td>\n",
              "      <td>654</td>\n",
              "    </tr>\n",
              "    <tr>\n",
              "      <th>1</th>\n",
              "      <td>TAMPIN</td>\n",
              "      <td>MAJLIS DAERAH TAMPIN</td>\n",
              "      <td>50672</td>\n",
              "      <td>Perumahan</td>\n",
              "      <td>Perumahan Bukan Strata</td>\n",
              "      <td>Teres</td>\n",
              "      <td>NaN</td>\n",
              "      <td>0.021251</td>\n",
              "      <td>TRM203</td>\n",
              "      <td>13667</td>\n",
              "    </tr>\n",
              "    <tr>\n",
              "      <th>2</th>\n",
              "      <td>TAMPIN</td>\n",
              "      <td>MAJLIS DAERAH TAMPIN</td>\n",
              "      <td>50672</td>\n",
              "      <td>Perumahan</td>\n",
              "      <td>Perumahan Bukan Strata</td>\n",
              "      <td>Teres</td>\n",
              "      <td>NaN</td>\n",
              "      <td>0.021251</td>\n",
              "      <td>TRM203</td>\n",
              "      <td>13668</td>\n",
              "    </tr>\n",
              "    <tr>\n",
              "      <th>3</th>\n",
              "      <td>TAMPIN</td>\n",
              "      <td>MAJLIS DAERAH TAMPIN</td>\n",
              "      <td>50672</td>\n",
              "      <td>Perumahan</td>\n",
              "      <td>Perumahan Bukan Strata</td>\n",
              "      <td>Teres</td>\n",
              "      <td>NaN</td>\n",
              "      <td>0.011148</td>\n",
              "      <td>TRM203</td>\n",
              "      <td>13669</td>\n",
              "    </tr>\n",
              "    <tr>\n",
              "      <th>4</th>\n",
              "      <td>TAMPIN</td>\n",
              "      <td>MAJLIS DAERAH TAMPIN</td>\n",
              "      <td>50672</td>\n",
              "      <td>Perumahan</td>\n",
              "      <td>Perumahan Bukan Strata</td>\n",
              "      <td>Teres</td>\n",
              "      <td>NaN</td>\n",
              "      <td>0.011150</td>\n",
              "      <td>TRM203</td>\n",
              "      <td>13670</td>\n",
              "    </tr>\n",
              "    <tr>\n",
              "      <th>...</th>\n",
              "      <td>...</td>\n",
              "      <td>...</td>\n",
              "      <td>...</td>\n",
              "      <td>...</td>\n",
              "      <td>...</td>\n",
              "      <td>...</td>\n",
              "      <td>...</td>\n",
              "      <td>...</td>\n",
              "      <td>...</td>\n",
              "      <td>...</td>\n",
              "    </tr>\n",
              "    <tr>\n",
              "      <th>54267</th>\n",
              "      <td>TAMPIN</td>\n",
              "      <td>MAJLIS DAERAH TAMPIN</td>\n",
              "      <td>50674</td>\n",
              "      <td>Pengangkutan</td>\n",
              "      <td>Jalan</td>\n",
              "      <td>Jalan Lain</td>\n",
              "      <td>CHONG CHE KIN</td>\n",
              "      <td>0.001418</td>\n",
              "      <td>IPG405</td>\n",
              "      <td>9048&amp;9049</td>\n",
              "    </tr>\n",
              "    <tr>\n",
              "      <th>54268</th>\n",
              "      <td>TAMPIN</td>\n",
              "      <td>MAJLIS DAERAH TAMPIN</td>\n",
              "      <td>50674</td>\n",
              "      <td>Komersial</td>\n",
              "      <td>Teres</td>\n",
              "      <td>Kedai</td>\n",
              "      <td>CHONG CHE KIN</td>\n",
              "      <td>0.012281</td>\n",
              "      <td>TPK101</td>\n",
              "      <td>9048&amp;9049</td>\n",
              "    </tr>\n",
              "    <tr>\n",
              "      <th>54269</th>\n",
              "      <td>TAMPIN</td>\n",
              "      <td>MAJLIS DAERAH TAMPIN</td>\n",
              "      <td>50674</td>\n",
              "      <td>Komersial</td>\n",
              "      <td>Teres</td>\n",
              "      <td>Kedai</td>\n",
              "      <td>CHONG CHE KIN</td>\n",
              "      <td>0.013667</td>\n",
              "      <td>TPK101</td>\n",
              "      <td>9048&amp;9049</td>\n",
              "    </tr>\n",
              "    <tr>\n",
              "      <th>54270</th>\n",
              "      <td>TAMPIN</td>\n",
              "      <td>MAJLIS DAERAH TAMPIN</td>\n",
              "      <td>50674</td>\n",
              "      <td>Komersial</td>\n",
              "      <td>Teres</td>\n",
              "      <td>Kedai</td>\n",
              "      <td>CHONG CHE KIN</td>\n",
              "      <td>0.013750</td>\n",
              "      <td>TPK101</td>\n",
              "      <td>9048&amp;9049</td>\n",
              "    </tr>\n",
              "    <tr>\n",
              "      <th>54271</th>\n",
              "      <td>TAMPIN</td>\n",
              "      <td>MAJLIS DAERAH TAMPIN</td>\n",
              "      <td>50674</td>\n",
              "      <td>Komersial</td>\n",
              "      <td>Teres</td>\n",
              "      <td>Kedai</td>\n",
              "      <td>CHONG CHE KIN</td>\n",
              "      <td>0.014475</td>\n",
              "      <td>TPK101</td>\n",
              "      <td>9048&amp;9049</td>\n",
              "    </tr>\n",
              "  </tbody>\n",
              "</table>\n",
              "<p>54272 rows × 10 columns</p>\n",
              "</div>\n",
              "      <button class=\"colab-df-convert\" onclick=\"convertToInteractive('df-85a4597e-1e12-470f-b88b-8cc5832bcb84')\"\n",
              "              title=\"Convert this dataframe to an interactive table.\"\n",
              "              style=\"display:none;\">\n",
              "        \n",
              "  <svg xmlns=\"http://www.w3.org/2000/svg\" height=\"24px\"viewBox=\"0 0 24 24\"\n",
              "       width=\"24px\">\n",
              "    <path d=\"M0 0h24v24H0V0z\" fill=\"none\"/>\n",
              "    <path d=\"M18.56 5.44l.94 2.06.94-2.06 2.06-.94-2.06-.94-.94-2.06-.94 2.06-2.06.94zm-11 1L8.5 8.5l.94-2.06 2.06-.94-2.06-.94L8.5 2.5l-.94 2.06-2.06.94zm10 10l.94 2.06.94-2.06 2.06-.94-2.06-.94-.94-2.06-.94 2.06-2.06.94z\"/><path d=\"M17.41 7.96l-1.37-1.37c-.4-.4-.92-.59-1.43-.59-.52 0-1.04.2-1.43.59L10.3 9.45l-7.72 7.72c-.78.78-.78 2.05 0 2.83L4 21.41c.39.39.9.59 1.41.59.51 0 1.02-.2 1.41-.59l7.78-7.78 2.81-2.81c.8-.78.8-2.07 0-2.86zM5.41 20L4 18.59l7.72-7.72 1.47 1.35L5.41 20z\"/>\n",
              "  </svg>\n",
              "      </button>\n",
              "      \n",
              "  <style>\n",
              "    .colab-df-container {\n",
              "      display:flex;\n",
              "      flex-wrap:wrap;\n",
              "      gap: 12px;\n",
              "    }\n",
              "\n",
              "    .colab-df-convert {\n",
              "      background-color: #E8F0FE;\n",
              "      border: none;\n",
              "      border-radius: 50%;\n",
              "      cursor: pointer;\n",
              "      display: none;\n",
              "      fill: #1967D2;\n",
              "      height: 32px;\n",
              "      padding: 0 0 0 0;\n",
              "      width: 32px;\n",
              "    }\n",
              "\n",
              "    .colab-df-convert:hover {\n",
              "      background-color: #E2EBFA;\n",
              "      box-shadow: 0px 1px 2px rgba(60, 64, 67, 0.3), 0px 1px 3px 1px rgba(60, 64, 67, 0.15);\n",
              "      fill: #174EA6;\n",
              "    }\n",
              "\n",
              "    [theme=dark] .colab-df-convert {\n",
              "      background-color: #3B4455;\n",
              "      fill: #D2E3FC;\n",
              "    }\n",
              "\n",
              "    [theme=dark] .colab-df-convert:hover {\n",
              "      background-color: #434B5C;\n",
              "      box-shadow: 0px 1px 3px 1px rgba(0, 0, 0, 0.15);\n",
              "      filter: drop-shadow(0px 1px 2px rgba(0, 0, 0, 0.3));\n",
              "      fill: #FFFFFF;\n",
              "    }\n",
              "  </style>\n",
              "\n",
              "      <script>\n",
              "        const buttonEl =\n",
              "          document.querySelector('#df-85a4597e-1e12-470f-b88b-8cc5832bcb84 button.colab-df-convert');\n",
              "        buttonEl.style.display =\n",
              "          google.colab.kernel.accessAllowed ? 'block' : 'none';\n",
              "\n",
              "        async function convertToInteractive(key) {\n",
              "          const element = document.querySelector('#df-85a4597e-1e12-470f-b88b-8cc5832bcb84');\n",
              "          const dataTable =\n",
              "            await google.colab.kernel.invokeFunction('convertToInteractive',\n",
              "                                                     [key], {});\n",
              "          if (!dataTable) return;\n",
              "\n",
              "          const docLinkHtml = 'Like what you see? Visit the ' +\n",
              "            '<a target=\"_blank\" href=https://colab.research.google.com/notebooks/data_table.ipynb>data table notebook</a>'\n",
              "            + ' to learn more about interactive tables.';\n",
              "          element.innerHTML = '';\n",
              "          dataTable['output_type'] = 'display_data';\n",
              "          await google.colab.output.renderOutput(dataTable, element);\n",
              "          const docLink = document.createElement('div');\n",
              "          docLink.innerHTML = docLinkHtml;\n",
              "          element.appendChild(docLink);\n",
              "        }\n",
              "      </script>\n",
              "    </div>\n",
              "  </div>\n",
              "  "
            ]
          },
          "metadata": {},
          "execution_count": 39
        }
      ],
      "source": [
        "df.dropna(thresh=2)"
      ]
    },
    {
      "cell_type": "code",
      "source": [
        "df[\"NAMA\"].fillna(\"Tidak Diketahui\", inplace = True)\n",
        "df.head(10)"
      ],
      "metadata": {
        "id": "N5lxBkF7rN1L"
      },
      "execution_count": null,
      "outputs": []
    },
    {
      "cell_type": "code",
      "source": [
        "#Drop rows that has NaN values on selected column\n",
        "df2=df.dropna(subset=['ID MUKIM','KOD GTN'])"
      ],
      "metadata": {
        "colab": {
          "base_uri": "https://localhost:8080/"
        },
        "id": "rdqIwphjsLM-",
        "outputId": "1d38e744-0305-404a-f4d1-8ec3e223e066"
      },
      "execution_count": null,
      "outputs": [
        {
          "output_type": "stream",
          "name": "stderr",
          "text": [
            "<ipython-input-43-f9bf1283b446>:2: FutureWarning: Dropping of nuisance columns in DataFrame reductions (with 'numeric_only=None') is deprecated; in a future version this will raise TypeError.  Select only valid columns before calling the reduction.\n",
            "  df2=df.dropna(subset=['ID MUKIM','KOD GTN']).sum()\n"
          ]
        }
      ]
    },
    {
      "cell_type": "code",
      "source": [
        "print(df['DAERAH'].value_counts())\n",
        "\n",
        "print(df['PIHAK BERKUASA TEMPATAN'].value_counts())\n",
        "\n",
        "print(df['GUNA TANAH 1'].value_counts())\n",
        "\n",
        "print(df['GUNA TANAH 2'].value_counts())\n",
        "print(df['GUNA TANAH 3'].value_counts())\n",
        "print(df['NAMA'].value_counts())\n"
      ],
      "metadata": {
        "colab": {
          "base_uri": "https://localhost:8080/"
        },
        "id": "bnMF-ZmQvN1Y",
        "outputId": "52bbc4a1-70a9-4aef-b12f-05b443836d0b"
      },
      "execution_count": null,
      "outputs": [
        {
          "output_type": "stream",
          "name": "stdout",
          "text": [
            "TAMPIN    54272\n",
            "Name: DAERAH, dtype: int64\n",
            "MAJLIS DAERAH TAMPIN    54272\n",
            "Name: PIHAK BERKUASA TEMPATAN, dtype: int64\n",
            "Pertanian                             23634\n",
            "Perumahan                             23194\n",
            "Komersial                              2889\n",
            "Tanah Kosong                           1345\n",
            "Pengangkutan                            974\n",
            "Institusi dan Kemudahan Masyarakat      621\n",
            "Badan Air                               600\n",
            "Industri                                389\n",
            "Tanah Lapang dan Rekreasi               282\n",
            "Infrastruktur dan Utiliti               272\n",
            "Hutan                                    72\n",
            "Name: GUNA TANAH 1, dtype: int64\n",
            "Tanaman                             23564\n",
            "Perumahan Bukan Strata              16899\n",
            "Kampung                              6273\n",
            "Teres                                2796\n",
            "Tanah Pembangunan                    1273\n",
            "Jalan                                 844\n",
            "Semula Jadi                           600\n",
            "Taman Perindustrian                   317\n",
            "Tanah Lapang                          198\n",
            "Pendidikan                            148\n",
            "Bekalan Elektrik                      132\n",
            "Pengangkutan Darat                    130\n",
            "Keagamaan                             120\n",
            "Perkuburan                             92\n",
            "Keselamatan                            83\n",
            "Kemudahan Awam                         80\n",
            "Kawasan Hijau                          77\n",
            "Hutan Simpan Kekal                     72\n",
            "Tanah Tidak Diusahakan                 72\n",
            "Bangunan Sesebuah                      71\n",
            "Penternakan                            63\n",
            "Kegunaan Kerajaan/Badan Berkanun       54\n",
            "Bekalan Air                            52\n",
            "Pembetungan                            51\n",
            "Bukan Taman Perindustrian              45\n",
            "Kesihatan                              32\n",
            "Perlombongan/Kuari                     27\n",
            "Kegunaan Khusus                        21\n",
            "Perumahan Strata                       20\n",
            "Pengairan dan Perparitan               19\n",
            "Telekomunikasi                         14\n",
            "Rumah Persatuan/Pertubuhan             11\n",
            "Akuakultur                              7\n",
            "Kemudahan Sukan dan Rekreasi            7\n",
            "Pelupusan Sisa Pepejal                  4\n",
            "Setinggan                               2\n",
            "Rumah Kebajikan                         1\n",
            "Pembangunan Penggunaan Bercampur        1\n",
            "Name: GUNA TANAH 2, dtype: int64\n",
            "Teres                                                    16314\n",
            "Getah                                                    13730\n",
            "Tanah tidak diusahakan                                    4751\n",
            "Petempatan Tanah Rancangan FELDA/FELCRA/RISDA             4624\n",
            "Kelapa Sawit                                              2905\n",
            "                                                         ...  \n",
            "Kuarters Kerajaan : Sesebuah/Teres/ Berbilang Tingkat        1\n",
            "Pembuatan Produk Makanan                                     1\n",
            "Rumah Kebajikan Lain                                         1\n",
            "Terminal/Stesen Keretapi/Rel                                 1\n",
            "Pembuatan Logam dan Produk Logam                             1\n",
            "Name: GUNA TANAH 3, Length: 132, dtype: int64\n",
            "Tidak Diketahui                          51932\n",
            "FELDA SUNGAI KELAMAH                       428\n",
            "TAMAN SUNGAI GEMAS                         254\n",
            "Felda Pasir Besar (Generasi Ke2)           132\n",
            "Kawasan Industri Kecil Repah               129\n",
            "                                         ...  \n",
            "PEJABAT RISDA NEGERI SEMBILAN SELATAN        1\n",
            "BALAI RASMI YM BESAR TUNKU TAMPIN            1\n",
            "HOSPITAL TAMPIN                              1\n",
            "TANAH PERKUBURAN KRISTIAN TAMPIN             1\n",
            "GERAI MAKAN                                  1\n",
            "Name: NAMA, Length: 556, dtype: int64\n"
          ]
        }
      ]
    },
    {
      "cell_type": "markdown",
      "metadata": {
        "id": "u0vucnGFVJJ5"
      },
      "source": [
        "## Data Preparation and Cleaning\n",
        "\n",
        "**TODO** - Write some explanation here.\n",
        "\n"
      ]
    },
    {
      "cell_type": "markdown",
      "metadata": {
        "id": "gBzC1JheVJJ5"
      },
      "source": [
        "> Instructions (delete this cell):\n",
        ">\n",
        "> - Load the dataset into a data frame using Pandas\n",
        "> - Explore the number of rows & columns, ranges of values etc.\n",
        "> - Handle missing, incorrect and invalid data\n",
        "> - Perform any additional steps (parsing dates, creating additional columns, merging multiple dataset etc.)"
      ]
    },
    {
      "cell_type": "code",
      "execution_count": null,
      "metadata": {
        "id": "df5R-2s3VJJ5"
      },
      "outputs": [],
      "source": []
    },
    {
      "cell_type": "code",
      "execution_count": null,
      "metadata": {
        "id": "t26lvNVLVJJ5"
      },
      "outputs": [],
      "source": []
    },
    {
      "cell_type": "code",
      "execution_count": null,
      "metadata": {
        "id": "KribcC_XVJJ5"
      },
      "outputs": [],
      "source": []
    },
    {
      "cell_type": "code",
      "execution_count": null,
      "metadata": {
        "id": "7mUpY22aVJJ6"
      },
      "outputs": [],
      "source": []
    },
    {
      "cell_type": "code",
      "execution_count": null,
      "metadata": {
        "id": "h46ilQakVJJ6"
      },
      "outputs": [],
      "source": []
    },
    {
      "cell_type": "code",
      "execution_count": null,
      "metadata": {
        "id": "cfcSY6YSVJJ6"
      },
      "outputs": [],
      "source": []
    },
    {
      "cell_type": "code",
      "execution_count": null,
      "metadata": {
        "id": "HsDyuPIgVJJ6"
      },
      "outputs": [],
      "source": []
    },
    {
      "cell_type": "code",
      "execution_count": null,
      "metadata": {
        "id": "1Et9QhCbVJJ6"
      },
      "outputs": [],
      "source": []
    },
    {
      "cell_type": "code",
      "execution_count": null,
      "metadata": {
        "id": "yBxDax1KVJJ6"
      },
      "outputs": [],
      "source": []
    },
    {
      "cell_type": "markdown",
      "metadata": {
        "id": "_0m5LkbVVJJ6"
      },
      "source": [
        "## Exploratory Analysis and Visualization\n",
        "\n",
        "**TODO** - write some explanation here.\n",
        "\n"
      ]
    },
    {
      "cell_type": "markdown",
      "metadata": {
        "id": "6knKGHajVJJ6"
      },
      "source": [
        "> Instructions (delete this cell)\n",
        "> \n",
        "> - Compute the mean, sum, range and other interesting statistics for numeric columns\n",
        "> - Explore distributions of numeric columns using histograms etc.\n",
        "> - Explore relationship between columns using scatter plots, bar charts etc.\n",
        "> - Make a note of interesting insights from the exploratory analysis"
      ]
    },
    {
      "cell_type": "markdown",
      "metadata": {
        "id": "RuPTpsGWVJJ7"
      },
      "source": [
        "Let's begin by importing`matplotlib.pyplot` and `seaborn`."
      ]
    },
    {
      "cell_type": "code",
      "execution_count": null,
      "metadata": {
        "id": "zOTtwqAMVJJ7"
      },
      "outputs": [],
      "source": [
        "import seaborn as sns\n",
        "import matplotlib\n",
        "import matplotlib.pyplot as plt\n",
        "%matplotlib inline\n",
        "\n",
        "sns.set_style('darkgrid')\n",
        "matplotlib.rcParams['font.size'] = 14\n",
        "matplotlib.rcParams['figure.figsize'] = (9, 5)\n",
        "matplotlib.rcParams['figure.facecolor'] = '#00000000'"
      ]
    },
    {
      "cell_type": "markdown",
      "metadata": {
        "id": "Fv4NPHasVJJ7"
      },
      "source": [
        "**TODO** - Explore one or more columns by plotting a graph below, and add some explanation about it"
      ]
    },
    {
      "cell_type": "code",
      "execution_count": null,
      "metadata": {
        "id": "NKN6RIplVJJ7"
      },
      "outputs": [],
      "source": []
    },
    {
      "cell_type": "code",
      "execution_count": null,
      "metadata": {
        "id": "-Scf_lKnVJJ7"
      },
      "outputs": [],
      "source": []
    },
    {
      "cell_type": "markdown",
      "metadata": {
        "id": "Dn_AW-5uVJJ7"
      },
      "source": [
        "**TODO** - Explore one or more columns by plotting a graph below, and add some explanation about it"
      ]
    },
    {
      "cell_type": "code",
      "execution_count": null,
      "metadata": {
        "id": "c7fugjWzVJJ7"
      },
      "outputs": [],
      "source": []
    },
    {
      "cell_type": "code",
      "execution_count": null,
      "metadata": {
        "id": "pPnlFwy2VJJ7"
      },
      "outputs": [],
      "source": []
    },
    {
      "cell_type": "markdown",
      "metadata": {
        "id": "rN1bUu8RVJJ7"
      },
      "source": [
        "**TODO** - Explore one or more columns by plotting a graph below, and add some explanation about it"
      ]
    },
    {
      "cell_type": "code",
      "execution_count": null,
      "metadata": {
        "id": "kMrm6CiAVJJ8"
      },
      "outputs": [],
      "source": []
    },
    {
      "cell_type": "code",
      "execution_count": null,
      "metadata": {
        "id": "RSt7KlcfVJJ8"
      },
      "outputs": [],
      "source": []
    },
    {
      "cell_type": "markdown",
      "metadata": {
        "id": "tLNLw0EOVJJ8"
      },
      "source": [
        "**TODO** - Explore one or more columns by plotting a graph below, and add some explanation about it"
      ]
    },
    {
      "cell_type": "code",
      "execution_count": null,
      "metadata": {
        "id": "61sgf555VJJ8"
      },
      "outputs": [],
      "source": []
    },
    {
      "cell_type": "code",
      "execution_count": null,
      "metadata": {
        "id": "fOQ9cTWiVJJ8"
      },
      "outputs": [],
      "source": []
    },
    {
      "cell_type": "markdown",
      "metadata": {
        "id": "nt_CVhi-VJJ8"
      },
      "source": [
        "**TODO** - Explore one or more columns by plotting a graph below, and add some explanation about it"
      ]
    },
    {
      "cell_type": "code",
      "execution_count": null,
      "metadata": {
        "id": "Zatc4Si_VJJ8"
      },
      "outputs": [],
      "source": []
    },
    {
      "cell_type": "code",
      "execution_count": null,
      "metadata": {
        "id": "RBYoxztOVJJ8"
      },
      "outputs": [],
      "source": []
    },
    {
      "cell_type": "markdown",
      "metadata": {
        "id": "E0U3IWm8VJJ9"
      },
      "source": [
        "## Asking and Answering Questions\n",
        "\n",
        "TODO - write some explanation here.\n",
        "\n"
      ]
    },
    {
      "cell_type": "markdown",
      "metadata": {
        "id": "SjXvLl4dVJJ9"
      },
      "source": [
        "> Instructions (delete this cell)\n",
        ">\n",
        "> - Ask at least 5 interesting questions about your dataset\n",
        "> - Answer the questions either by computing the results using Numpy/Pandas or by plotting graphs using Matplotlib/Seaborn\n",
        "> - Create new columns, merge multiple dataset and perform grouping/aggregation wherever necessary\n",
        "> - Wherever you're using a library function from Pandas/Numpy/Matplotlib etc. explain briefly what it does\n",
        "\n"
      ]
    },
    {
      "cell_type": "markdown",
      "metadata": {
        "id": "7Lor5rHMVJJ9"
      },
      "source": [
        "#### Q1: TODO - ask a question here and answer it below"
      ]
    },
    {
      "cell_type": "code",
      "execution_count": null,
      "metadata": {
        "id": "D-PdOKqCVJJ9"
      },
      "outputs": [],
      "source": []
    },
    {
      "cell_type": "code",
      "execution_count": null,
      "metadata": {
        "id": "pR1HdQ4JVJJ9"
      },
      "outputs": [],
      "source": []
    },
    {
      "cell_type": "code",
      "execution_count": null,
      "metadata": {
        "id": "LKIZxnawVJJ9"
      },
      "outputs": [],
      "source": []
    },
    {
      "cell_type": "markdown",
      "metadata": {
        "id": "c_REVnrhVJJ-"
      },
      "source": [
        "#### Q2: TODO - ask a question here and answer it below"
      ]
    },
    {
      "cell_type": "code",
      "execution_count": null,
      "metadata": {
        "id": "ShA3QyQpVJJ-"
      },
      "outputs": [],
      "source": []
    },
    {
      "cell_type": "code",
      "execution_count": null,
      "metadata": {
        "id": "dvyLd9MdVJJ-"
      },
      "outputs": [],
      "source": []
    },
    {
      "cell_type": "code",
      "execution_count": null,
      "metadata": {
        "id": "tdjrhzySVJJ-"
      },
      "outputs": [],
      "source": []
    },
    {
      "cell_type": "markdown",
      "metadata": {
        "id": "ya3o0SurVJJ-"
      },
      "source": [
        "#### Q3: TODO - ask a question here and answer it below"
      ]
    },
    {
      "cell_type": "code",
      "execution_count": null,
      "metadata": {
        "id": "CaF9SiPeVJJ-"
      },
      "outputs": [],
      "source": []
    },
    {
      "cell_type": "code",
      "execution_count": null,
      "metadata": {
        "id": "bGV1nEzqVJJ-"
      },
      "outputs": [],
      "source": []
    },
    {
      "cell_type": "code",
      "execution_count": null,
      "metadata": {
        "id": "1y8gWqGcVJJ-"
      },
      "outputs": [],
      "source": []
    },
    {
      "cell_type": "markdown",
      "metadata": {
        "id": "p4CcVO1TVJJ-"
      },
      "source": [
        "#### Q4: TODO - ask a question here and answer it below"
      ]
    },
    {
      "cell_type": "code",
      "execution_count": null,
      "metadata": {
        "id": "Wa96BGX1VJJ-"
      },
      "outputs": [],
      "source": []
    },
    {
      "cell_type": "code",
      "execution_count": null,
      "metadata": {
        "id": "R_C78KePVJJ-"
      },
      "outputs": [],
      "source": []
    },
    {
      "cell_type": "code",
      "execution_count": null,
      "metadata": {
        "id": "i4iTQAxBVJJ_"
      },
      "outputs": [],
      "source": []
    },
    {
      "cell_type": "markdown",
      "metadata": {
        "id": "uFuZBqX1VJJ_"
      },
      "source": [
        "#### Q5: TODO - ask a question here and answer it below"
      ]
    },
    {
      "cell_type": "code",
      "execution_count": null,
      "metadata": {
        "id": "0XCOkgIHVJJ_"
      },
      "outputs": [],
      "source": []
    },
    {
      "cell_type": "code",
      "execution_count": null,
      "metadata": {
        "id": "xZWIg8jJVJJ_"
      },
      "outputs": [],
      "source": []
    },
    {
      "cell_type": "code",
      "execution_count": null,
      "metadata": {
        "id": "MMExemAYVJJ_"
      },
      "outputs": [],
      "source": []
    },
    {
      "cell_type": "markdown",
      "metadata": {
        "id": "VxoO755tVJJ_"
      },
      "source": [
        "## Inferences and Conclusion\n",
        "\n",
        "**TODO** - Write some explanation here: a summary of all the inferences drawn from the analysis, and any conclusions you may have drawn by answering various questions."
      ]
    },
    {
      "cell_type": "code",
      "execution_count": null,
      "metadata": {
        "id": "kZ1_OOfbVJKA"
      },
      "outputs": [],
      "source": []
    },
    {
      "cell_type": "code",
      "execution_count": null,
      "metadata": {
        "id": "MtFJFEuMVJKA"
      },
      "outputs": [],
      "source": []
    },
    {
      "cell_type": "markdown",
      "metadata": {
        "id": "xfuc6sJgVJKA"
      },
      "source": [
        "## References and Future Work\n",
        "\n",
        "**TODO** - Write some explanation here: ideas for future projects using this dataset, and links to resources you found useful."
      ]
    },
    {
      "cell_type": "markdown",
      "metadata": {
        "id": "s9w8LQGaVJKA"
      },
      "source": [
        "> Submission Instructions (delete this cell)\n",
        "> \n",
        "> - Upload your notebook to E-learning\n",
        "\n",
        "\n",
        " "
      ]
    },
    {
      "cell_type": "code",
      "execution_count": null,
      "metadata": {
        "id": "OuvFcAJoVJKA"
      },
      "outputs": [],
      "source": []
    },
    {
      "cell_type": "code",
      "execution_count": null,
      "metadata": {
        "scrolled": true,
        "id": "VWI2hEA1VJKA"
      },
      "outputs": [],
      "source": []
    },
    {
      "cell_type": "code",
      "execution_count": null,
      "metadata": {
        "id": "VT58I-b9VJKB"
      },
      "outputs": [],
      "source": []
    }
  ],
  "metadata": {
    "kernelspec": {
      "display_name": "Python 3",
      "language": "python",
      "name": "python3"
    },
    "language_info": {
      "codemirror_mode": {
        "name": "ipython",
        "version": 3
      },
      "file_extension": ".py",
      "mimetype": "text/x-python",
      "name": "python",
      "nbconvert_exporter": "python",
      "pygments_lexer": "ipython3",
      "version": "3.8.5"
    },
    "colab": {
      "provenance": [],
      "include_colab_link": true
    }
  },
  "nbformat": 4,
  "nbformat_minor": 0
}